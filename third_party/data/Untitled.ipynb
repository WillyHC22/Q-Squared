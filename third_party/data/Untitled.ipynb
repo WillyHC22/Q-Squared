{
 "cells": [
  {
   "cell_type": "code",
   "execution_count": 1,
   "id": "85b1dad8-7701-4ad9-b6eb-ce4f0c25ba0d",
   "metadata": {},
   "outputs": [],
   "source": [
    "import pandas as pd"
   ]
  },
  {
   "cell_type": "code",
   "execution_count": 4,
   "id": "cf647184-ac0d-4c0b-a6cb-a44f86ade89c",
   "metadata": {},
   "outputs": [],
   "source": [
    "with open(\"test_generation.txt\", \"r\", encoding=\"utf-8\") as f:\n",
    "    generations = f.readlines()\n",
    "    \n",
    "with open(\"test_gold.txt\", \"r\", encoding=\"utf-8\") as f:\n",
    "    golds = f.readlines()"
   ]
  },
  {
   "cell_type": "code",
   "execution_count": 9,
   "id": "664e47cb-4af4-4aed-b8aa-0dbe489d68c7",
   "metadata": {},
   "outputs": [],
   "source": [
    "dict_to_df = {\"response\":generations, \"knowledge\":golds}\n",
    "df = pd.DataFrame(dict_to_df)"
   ]
  },
  {
   "cell_type": "code",
   "execution_count": 10,
   "id": "2cdaffb4-597e-4980-aff1-0ab5dd3b766d",
   "metadata": {},
   "outputs": [],
   "source": [
    "df.to_csv(\"CICERO_gold_gen_best.csv\")"
   ]
  },
  {
   "cell_type": "code",
   "execution_count": null,
   "id": "c59f17aa-b848-4bdf-81de-50ee18906644",
   "metadata": {},
   "outputs": [],
   "source": []
  }
 ],
 "metadata": {
  "kernelspec": {
   "display_name": "Python 3 (ipykernel)",
   "language": "python",
   "name": "python3"
  },
  "language_info": {
   "codemirror_mode": {
    "name": "ipython",
    "version": 3
   },
   "file_extension": ".py",
   "mimetype": "text/x-python",
   "name": "python",
   "nbconvert_exporter": "python",
   "pygments_lexer": "ipython3",
   "version": "3.9.13"
  }
 },
 "nbformat": 4,
 "nbformat_minor": 5
}
